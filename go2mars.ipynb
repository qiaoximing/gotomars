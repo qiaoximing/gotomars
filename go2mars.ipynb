{
 "cells": [
  {
   "cell_type": "code",
   "execution_count": 2,
   "metadata": {},
   "outputs": [],
   "source": [
    "import gym\n",
    "from gym import spaces\n",
    "import numpy as np"
   ]
  },
  {
   "cell_type": "code",
   "execution_count": 3,
   "metadata": {},
   "outputs": [],
   "source": [
    "class Orbit(gym.Env):\n",
    "    def __init__(self, max_step):\n",
    "        #self.directions = (-1, 1, 0) #speed down, up, keep\n",
    "        self.max_step = max_step\n",
    "        # action space: velocity change\n",
    "        self.action_space = spaces.Box(low=-5,high=5,shape=(1,))\n",
    "        # observation space: (velocity, radius)\n",
    "        self.observation_space = spaces.Tuple((spaces.Box(low=-50,high=50,shape=(1,)), spaces.Box(low=-23,high=23,shape=(1,))))\n",
    "        self.step_count = 0\n",
    "        self.G = 6.67259*10**(-17) # N km^2 / kg^2\n",
    "        self.M = 1.989*10**30 # kg\n",
    "        self.m = 100 # i dont know\n",
    "        self.r_mars = 2.2794*10**8 # km\n",
    "        self.reset()\n",
    "        \n",
    "    def reset(self):\n",
    "        v_escape = 11.2 # km/s\n",
    "        r_earth = 1.4959787*10**8 # km\n",
    "        self.state = (v_escape, -r_earth)\n",
    "        self.step_count = 0\n",
    "        return self.state\n",
    "        \n",
    "    def step(self, action):\n",
    "        assert self.action_space.contains(action)\n",
    "        done = False\n",
    "        self.step_count += 1\n",
    "        if self.step_count==self.max_step:\n",
    "            done = True\n",
    "        \n",
    "        v0, r0 = self.state\n",
    "        v1 = v0 + action\n",
    "        a = 1/(2/r0-v1**2*1000/self.G/self.M) # km\n",
    "        dE = 1/2/self.m/np.abs(v0**2-v1**2)\n",
    "        if r0>0:\n",
    "            r1 = -2*a+r0\n",
    "        else:\n",
    "            r1 = 2*a+r0\n",
    "        r2 = v1*r0/r1\n",
    "        self.state = (v1[0], r2[0])\n",
    "        if np.abs(r2)==self.r_mars:\n",
    "            done = True\n",
    "            reward = 10000\n",
    "        else:\n",
    "            reward = -dE\n",
    "        return self.state, reward, done, {}"
   ]
  },
  {
   "cell_type": "code",
   "execution_count": 4,
   "metadata": {},
   "outputs": [
    {
     "name": "stdout",
     "output_type": "stream",
     "text": [
      "(11.2, -149597870.0)\n",
      "[3.34]\n",
      "(14.54, 7.678759314848292)\n",
      "[2.65]\n",
      "(17.189999999999998, -2010908373.646385)\n"
     ]
    }
   ],
   "source": [
    "env = Orbit(10)\n",
    "print(env.state)\n",
    "#action = env.action_space.sample()\n",
    "action = np.array([3.34])\n",
    "print(action)\n",
    "obs, R, done, _ = env.step(action)\n",
    "print(obs)\n",
    "action = np.array([2.65])\n",
    "print(action)\n",
    "obs, R, done, _ = env.step(action)\n",
    "print(obs)"
   ]
  },
  {
   "cell_type": "code",
   "execution_count": null,
   "metadata": {},
   "outputs": [],
   "source": []
  }
 ],
 "metadata": {
  "kernelspec": {
   "display_name": "Python 3",
   "language": "python",
   "name": "python3"
  },
  "language_info": {
   "codemirror_mode": {
    "name": "ipython",
    "version": 3
   },
   "file_extension": ".py",
   "mimetype": "text/x-python",
   "name": "python",
   "nbconvert_exporter": "python",
   "pygments_lexer": "ipython3",
   "version": "3.6.7"
  },
  "varInspector": {
   "cols": {
    "lenName": 16,
    "lenType": 16,
    "lenVar": 40
   },
   "kernels_config": {
    "python": {
     "delete_cmd_postfix": "",
     "delete_cmd_prefix": "del ",
     "library": "var_list.py",
     "varRefreshCmd": "print(var_dic_list())"
    },
    "r": {
     "delete_cmd_postfix": ") ",
     "delete_cmd_prefix": "rm(",
     "library": "var_list.r",
     "varRefreshCmd": "cat(var_dic_list()) "
    }
   },
   "types_to_exclude": [
    "module",
    "function",
    "builtin_function_or_method",
    "instance",
    "_Feature"
   ],
   "window_display": false
  }
 },
 "nbformat": 4,
 "nbformat_minor": 2
}
